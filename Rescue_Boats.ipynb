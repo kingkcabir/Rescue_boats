{
 "cells": [
  {
   "cell_type": "code",
   "execution_count": 7,
   "id": "313f9561",
   "metadata": {},
   "outputs": [
    {
     "name": "stdout",
     "output_type": "stream",
     "text": [
      "4\n"
     ]
    }
   ],
   "source": [
    "class Solution:\n",
    "    def numRescueBoats(self, people: list[int], limit: int) -> int:\n",
    "        people.sort()\n",
    "        boat = 0\n",
    "        start, end = 0, len(people) - 1\n",
    "\n",
    "        while start <= end:\n",
    "            if people[start] + people[end] <= limit:\n",
    "                start += 1\n",
    "            end -= 1\n",
    "            boat += 1\n",
    "        return boat\n",
    "    \n",
    "print(Solution().numRescueBoats(people=[3,5,3,4], limit=5))"
   ]
  },
  {
   "cell_type": "code",
   "execution_count": null,
   "id": "1e23e17c",
   "metadata": {},
   "outputs": [],
   "source": []
  }
 ],
 "metadata": {
  "kernelspec": {
   "display_name": "Python 3 (ipykernel)",
   "language": "python",
   "name": "python3"
  },
  "language_info": {
   "codemirror_mode": {
    "name": "ipython",
    "version": 3
   },
   "file_extension": ".py",
   "mimetype": "text/x-python",
   "name": "python",
   "nbconvert_exporter": "python",
   "pygments_lexer": "ipython3",
   "version": "3.11.4"
  }
 },
 "nbformat": 4,
 "nbformat_minor": 5
}
